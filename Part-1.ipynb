{
 "cells": [
  {
   "cell_type": "markdown",
   "metadata": {
    "collapsed": true
   },
   "source": [
    "<H2> IBM Applied Data Science Capstone </H2>\n",
    "\n",
    "<H1>Best Stationary Shop Locations</H1>\n"
   ]
  },
  {
   "cell_type": "markdown",
   "metadata": {},
   "source": [
    "<H2>Introduction</H2>\n",
    "<p>Taking the school students as the target audience, this project aims to find the schools around a given location so that a business person, aiming to start a stationary shop, can receive help to pursue a profitable business.</p>"
   ]
  },
  {
   "cell_type": "markdown",
   "metadata": {},
   "source": [
    "<H2>Business Problem </H2>\n",
    "<p> For a business person to run a stationary shop business, it will be utterly problematic for his business to acquire profits if he sets his shop in a location where no students or schools are present. Hence, this project aims to get the data about a particular location where many schools are located, so that his shop can attract more and more students. </p>\n",
    "\n",
    "<p>This idea can solve the problem and make the business profitable as students need a lot of stationary stuff to complete their homework as well as projects.\n",
    " </p>"
   ]
  },
  {
   "cell_type": "markdown",
   "metadata": {},
   "source": [
    "<H2>Data</H2>\n",
    "<p>The data used will be the location of schools that will be acquired using the <b>Foursquare</b> website. Through the website, location of schools in a particular location will be generated and processed. Then based on clustering, the business person will be delivered with the best location for his shop to be set up.</p>"
   ]
  }
 ],
 "metadata": {
  "kernelspec": {
   "display_name": "Python 3.6",
   "language": "python",
   "name": "python3"
  },
  "language_info": {
   "codemirror_mode": {
    "name": "ipython",
    "version": 3
   },
   "file_extension": ".py",
   "mimetype": "text/x-python",
   "name": "python",
   "nbconvert_exporter": "python",
   "pygments_lexer": "ipython3",
   "version": "3.6.9"
  }
 },
 "nbformat": 4,
 "nbformat_minor": 1
}
